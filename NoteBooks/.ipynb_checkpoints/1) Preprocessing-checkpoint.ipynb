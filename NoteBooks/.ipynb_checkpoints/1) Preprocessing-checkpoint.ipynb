{
 "cells": [
  {
   "cell_type": "code",
   "execution_count": 299,
   "id": "2a1336e3",
   "metadata": {},
   "outputs": [],
   "source": [
    "import h2o\n",
    "import numpy as np\n",
    "import pandas as pd\n",
    "import matplotlib.pyplot as plt\n",
    "import seaborn as sns\n",
    "import fancyimpute\n",
    "from fancyimpute import KNN,SoftImpute\n",
    "import statistics\n",
    "import pandas as pd\n",
    "import numpy as np\n",
    "import os\n",
    "import operator\n",
    "import matplotlib.pyplot as plt\n",
    "import seaborn as sns\n",
    "import statistics\n",
    "from sklearn.model_selection import train_test_split,GridSearchCV,cross_val_score\n",
    "from sklearn.preprocessing import LabelBinarizer,StandardScaler,OrdinalEncoder\n",
    "from sklearn.metrics import confusion_matrix\n",
    "from sklearn.metrics import roc_auc_score\n",
    "from sklearn.metrics import roc_curve\n",
    "from scipy.stats import boxcox\n",
    "from sklearn import preprocessing"
   ]
  },
  {
   "cell_type": "code",
   "execution_count": 300,
   "id": "32f16eda",
   "metadata": {},
   "outputs": [
    {
     "data": {
      "text/html": [
       "<div>\n",
       "<style scoped>\n",
       "    .dataframe tbody tr th:only-of-type {\n",
       "        vertical-align: middle;\n",
       "    }\n",
       "\n",
       "    .dataframe tbody tr th {\n",
       "        vertical-align: top;\n",
       "    }\n",
       "\n",
       "    .dataframe thead th {\n",
       "        text-align: right;\n",
       "    }\n",
       "</style>\n",
       "<table border=\"1\" class=\"dataframe\">\n",
       "  <thead>\n",
       "    <tr style=\"text-align: right;\">\n",
       "      <th></th>\n",
       "      <th>Loan ID</th>\n",
       "      <th>Customer ID</th>\n",
       "      <th>Loan Status</th>\n",
       "      <th>Current Loan Amount</th>\n",
       "      <th>Term</th>\n",
       "      <th>Credit Score</th>\n",
       "      <th>Years in current job</th>\n",
       "      <th>Home Ownership</th>\n",
       "      <th>Annual Income</th>\n",
       "      <th>Purpose</th>\n",
       "      <th>Monthly Debt</th>\n",
       "      <th>Years of Credit History</th>\n",
       "      <th>Months since last delinquent</th>\n",
       "      <th>Number of Open Accounts</th>\n",
       "      <th>Number of Credit Problems</th>\n",
       "      <th>Current Credit Balance</th>\n",
       "      <th>Maximum Open Credit</th>\n",
       "      <th>Bankruptcies</th>\n",
       "      <th>Tax Liens</th>\n",
       "    </tr>\n",
       "  </thead>\n",
       "  <tbody>\n",
       "    <tr>\n",
       "      <th>0</th>\n",
       "      <td>6cf51492-02a2-423e-b93d-676f05b9ad53</td>\n",
       "      <td>7c202b37-2add-44e8-9aea-d5b119aea935</td>\n",
       "      <td>Loan Refused</td>\n",
       "      <td>12232</td>\n",
       "      <td>Short Term</td>\n",
       "      <td>7280.0</td>\n",
       "      <td>&lt; 1 year</td>\n",
       "      <td>Rent</td>\n",
       "      <td>46643.0</td>\n",
       "      <td>Debt Consolidation</td>\n",
       "      <td>777.39</td>\n",
       "      <td>18.0</td>\n",
       "      <td>10.0</td>\n",
       "      <td>12</td>\n",
       "      <td>0</td>\n",
       "      <td>6762</td>\n",
       "      <td>7946</td>\n",
       "      <td>0.0</td>\n",
       "      <td>0.0</td>\n",
       "    </tr>\n",
       "    <tr>\n",
       "      <th>1</th>\n",
       "      <td>552e7ade-4292-4354-9ff9-c48031697d72</td>\n",
       "      <td>e7217b0a-07ac-47dd-b379-577b5a35b7c6</td>\n",
       "      <td>Loan Refused</td>\n",
       "      <td>25014</td>\n",
       "      <td>Long Term</td>\n",
       "      <td>7330.0</td>\n",
       "      <td>10+ years</td>\n",
       "      <td>Home Mortgage</td>\n",
       "      <td>81099.0</td>\n",
       "      <td>Debt Consolidation</td>\n",
       "      <td>892.09</td>\n",
       "      <td>26.7</td>\n",
       "      <td>NaN</td>\n",
       "      <td>14</td>\n",
       "      <td>0</td>\n",
       "      <td>35706</td>\n",
       "      <td>77961</td>\n",
       "      <td>0.0</td>\n",
       "      <td>0.0</td>\n",
       "    </tr>\n",
       "    <tr>\n",
       "      <th>2</th>\n",
       "      <td>9b5e32b3-8d76-4801-afc8-d729d5a2e6b9</td>\n",
       "      <td>0a62fc41-16c8-40b5-92ff-9e4b763ce714</td>\n",
       "      <td>Loan Refused</td>\n",
       "      <td>16117</td>\n",
       "      <td>Short Term</td>\n",
       "      <td>7240.0</td>\n",
       "      <td>9 years</td>\n",
       "      <td>Home Mortgage</td>\n",
       "      <td>60438.0</td>\n",
       "      <td>Home Improvements</td>\n",
       "      <td>1244.02</td>\n",
       "      <td>16.7</td>\n",
       "      <td>32.0</td>\n",
       "      <td>11</td>\n",
       "      <td>1</td>\n",
       "      <td>11275</td>\n",
       "      <td>14815</td>\n",
       "      <td>1.0</td>\n",
       "      <td>0.0</td>\n",
       "    </tr>\n",
       "    <tr>\n",
       "      <th>3</th>\n",
       "      <td>5419b7c7-ac11-4be2-a8a7-b131fb6d6dbe</td>\n",
       "      <td>30f36c59-5182-4482-8bbb-5b736849ae43</td>\n",
       "      <td>Loan Refused</td>\n",
       "      <td>11716</td>\n",
       "      <td>Short Term</td>\n",
       "      <td>7400.0</td>\n",
       "      <td>3 years</td>\n",
       "      <td>Rent</td>\n",
       "      <td>34171.0</td>\n",
       "      <td>Debt Consolidation</td>\n",
       "      <td>990.94</td>\n",
       "      <td>10.0</td>\n",
       "      <td>NaN</td>\n",
       "      <td>21</td>\n",
       "      <td>0</td>\n",
       "      <td>7009</td>\n",
       "      <td>43533</td>\n",
       "      <td>0.0</td>\n",
       "      <td>0.0</td>\n",
       "    </tr>\n",
       "    <tr>\n",
       "      <th>4</th>\n",
       "      <td>1450910f-9495-4fc9-afaf-9bdf4b9821df</td>\n",
       "      <td>70c26012-bba5-42c0-8dcb-75295ada31bb</td>\n",
       "      <td>Loan Refused</td>\n",
       "      <td>9789</td>\n",
       "      <td>Long Term</td>\n",
       "      <td>6860.0</td>\n",
       "      <td>10+ years</td>\n",
       "      <td>Home Mortgage</td>\n",
       "      <td>47003.0</td>\n",
       "      <td>Home Improvements</td>\n",
       "      <td>503.71</td>\n",
       "      <td>16.7</td>\n",
       "      <td>25.0</td>\n",
       "      <td>13</td>\n",
       "      <td>1</td>\n",
       "      <td>16913</td>\n",
       "      <td>19553</td>\n",
       "      <td>1.0</td>\n",
       "      <td>0.0</td>\n",
       "    </tr>\n",
       "  </tbody>\n",
       "</table>\n",
       "</div>"
      ],
      "text/plain": [
       "                                Loan ID                           Customer ID  \\\n",
       "0  6cf51492-02a2-423e-b93d-676f05b9ad53  7c202b37-2add-44e8-9aea-d5b119aea935   \n",
       "1  552e7ade-4292-4354-9ff9-c48031697d72  e7217b0a-07ac-47dd-b379-577b5a35b7c6   \n",
       "2  9b5e32b3-8d76-4801-afc8-d729d5a2e6b9  0a62fc41-16c8-40b5-92ff-9e4b763ce714   \n",
       "3  5419b7c7-ac11-4be2-a8a7-b131fb6d6dbe  30f36c59-5182-4482-8bbb-5b736849ae43   \n",
       "4  1450910f-9495-4fc9-afaf-9bdf4b9821df  70c26012-bba5-42c0-8dcb-75295ada31bb   \n",
       "\n",
       "    Loan Status  Current Loan Amount        Term  Credit Score  \\\n",
       "0  Loan Refused                12232  Short Term        7280.0   \n",
       "1  Loan Refused                25014   Long Term        7330.0   \n",
       "2  Loan Refused                16117  Short Term        7240.0   \n",
       "3  Loan Refused                11716  Short Term        7400.0   \n",
       "4  Loan Refused                 9789   Long Term        6860.0   \n",
       "\n",
       "  Years in current job Home Ownership  Annual Income             Purpose  \\\n",
       "0             < 1 year           Rent        46643.0  Debt Consolidation   \n",
       "1            10+ years  Home Mortgage        81099.0  Debt Consolidation   \n",
       "2              9 years  Home Mortgage        60438.0   Home Improvements   \n",
       "3              3 years           Rent        34171.0  Debt Consolidation   \n",
       "4            10+ years  Home Mortgage        47003.0   Home Improvements   \n",
       "\n",
       "  Monthly Debt  Years of Credit History  Months since last delinquent  \\\n",
       "0       777.39                     18.0                          10.0   \n",
       "1       892.09                     26.7                           NaN   \n",
       "2      1244.02                     16.7                          32.0   \n",
       "3       990.94                     10.0                           NaN   \n",
       "4       503.71                     16.7                          25.0   \n",
       "\n",
       "   Number of Open Accounts  Number of Credit Problems  Current Credit Balance  \\\n",
       "0                       12                          0                    6762   \n",
       "1                       14                          0                   35706   \n",
       "2                       11                          1                   11275   \n",
       "3                       21                          0                    7009   \n",
       "4                       13                          1                   16913   \n",
       "\n",
       "  Maximum Open Credit  Bankruptcies  Tax Liens  \n",
       "0                7946           0.0        0.0  \n",
       "1               77961           0.0        0.0  \n",
       "2               14815           1.0        0.0  \n",
       "3               43533           0.0        0.0  \n",
       "4               19553           1.0        0.0  "
      ]
     },
     "execution_count": 300,
     "metadata": {},
     "output_type": "execute_result"
    }
   ],
   "source": [
    "data = pd.read_csv('../data/LoansTrainingSetV2.csv', low_memory=False)\n",
    "data.head()"
   ]
  },
  {
   "cell_type": "code",
   "execution_count": 301,
   "id": "3f11072a",
   "metadata": {},
   "outputs": [
    {
     "data": {
      "text/plain": [
       "Index(['Loan ID', 'Customer ID', 'Loan Status', 'Current Loan Amount', 'Term',\n",
       "       'Credit Score', 'Years in current job', 'Home Ownership',\n",
       "       'Annual Income', 'Purpose', 'Monthly Debt', 'Years of Credit History',\n",
       "       'Months since last delinquent', 'Number of Open Accounts',\n",
       "       'Number of Credit Problems', 'Current Credit Balance',\n",
       "       'Maximum Open Credit', 'Bankruptcies', 'Tax Liens'],\n",
       "      dtype='object')"
      ]
     },
     "execution_count": 301,
     "metadata": {},
     "output_type": "execute_result"
    }
   ],
   "source": [
    "data.columns"
   ]
  },
  {
   "cell_type": "code",
   "execution_count": 302,
   "id": "cc03055c",
   "metadata": {},
   "outputs": [
    {
     "data": {
      "text/plain": [
       "(111107, 19)"
      ]
     },
     "execution_count": 302,
     "metadata": {},
     "output_type": "execute_result"
    }
   ],
   "source": [
    "data.shape"
   ]
  },
  {
   "cell_type": "markdown",
   "id": "b7000d6a",
   "metadata": {},
   "source": [
    "### EDA and Preprocessing\n"
   ]
  },
  {
   "cell_type": "markdown",
   "id": "0a7e906a",
   "metadata": {},
   "source": [
    "###### Check \"Loan ID\" Column"
   ]
  },
  {
   "cell_type": "markdown",
   "id": "546b69ff",
   "metadata": {},
   "source": [
    "As customer can have many loans >>>>> there can be similar customer ID,\n",
    "<p>but as the loan is only granted for one person >>>>> there could not be a duplicated Load ID"
   ]
  },
  {
   "cell_type": "code",
   "execution_count": 303,
   "id": "23d6ab1a",
   "metadata": {},
   "outputs": [
    {
     "data": {
      "text/plain": [
       "(88910, 19)"
      ]
     },
     "execution_count": 303,
     "metadata": {},
     "output_type": "execute_result"
    }
   ],
   "source": [
    "data.drop_duplicates(subset = 'Loan ID', keep = 'first', inplace = True)\n",
    "data.shape"
   ]
  },
  {
   "cell_type": "markdown",
   "id": "16241a25",
   "metadata": {},
   "source": [
    "###### Check Loan Status Column"
   ]
  },
  {
   "cell_type": "code",
   "execution_count": 304,
   "id": "07a73f4b",
   "metadata": {},
   "outputs": [
    {
     "data": {
      "text/plain": [
       "Loan Given      63737\n",
       "Loan Refused    25173\n",
       "Name: Loan Status, dtype: int64"
      ]
     },
     "execution_count": 304,
     "metadata": {},
     "output_type": "execute_result"
    }
   ],
   "source": [
    "status=data[\"Loan Status\"].value_counts() \n",
    "status"
   ]
  },
  {
   "cell_type": "code",
   "execution_count": 305,
   "id": "03c8f712",
   "metadata": {},
   "outputs": [
    {
     "name": "stderr",
     "output_type": "stream",
     "text": [
      "D:\\programfiles\\anaconda\\lib\\site-packages\\seaborn\\_decorators.py:36: FutureWarning: Pass the following variables as keyword args: x, y. From version 0.12, the only valid positional argument will be `data`, and passing other arguments without an explicit keyword will result in an error or misinterpretation.\n",
      "  warnings.warn(\n"
     ]
    },
    {
     "data": {
      "image/png": "[encoded data removed]",
      "text/plain": [
       "<Figure size 1000x500 with 1 Axes>"
      ]
     },
     "metadata": {},
     "output_type": "display_data"
    }
   ],
   "source": [
    "plt.figure(figsize=(10,5))\n",
    "sns.barplot(status.index, status.values, alpha=0.8)\n",
    "plt.title('Loan Status distribution')\n",
    "plt.ylabel('Number of Occurrences', fontsize=12)\n",
    "plt.xlabel('Loan Status', fontsize=12)\n",
    "plt.show();"
   ]
  },
  {
   "cell_type": "markdown",
   "id": "4f18073f",
   "metadata": {},
   "source": [
    "Data is Imbalanced"
   ]
  },
  {
   "cell_type": "markdown",
   "id": "bafd1d83",
   "metadata": {},
   "source": [
    "###### Check \"loan amount\" Column"
   ]
  },
  {
   "cell_type": "code",
   "execution_count": 306,
   "id": "19aff60b",
   "metadata": {},
   "outputs": [
    {
     "data": {
      "text/plain": [
       "count    8.891000e+04\n",
       "mean     1.433878e+07\n",
       "std      3.502996e+07\n",
       "min      4.910000e+02\n",
       "25%      8.283000e+03\n",
       "50%      1.435500e+04\n",
       "75%      2.448500e+04\n",
       "max      1.000000e+08\n",
       "Name: Current Loan Amount, dtype: float64"
      ]
     },
     "execution_count": 306,
     "metadata": {},
     "output_type": "execute_result"
    }
   ],
   "source": [
    "data[\"Current Loan Amount\"].describe()"
   ]
  },
  {
   "cell_type": "code",
   "execution_count": 307,
   "id": "3474ba5f",
   "metadata": {},
   "outputs": [
    {
     "data": {
      "image/png": "[encoded data removed]",
      "text/plain": [
       "<Figure size 640x480 with 1 Axes>"
      ]
     },
     "metadata": {},
     "output_type": "display_data"
    }
   ],
   "source": [
    "data[\"Current Loan Amount\"].plot.hist(grid=True, bins=20, rwidth=0.9,\n",
    "                   color='#607c8e')\n",
    "plt.title('Commute Times for 1,000 Commuters')\n",
    "plt.xlabel('Counts')\n",
    "plt.ylabel('Commute Time')\n",
    "plt.grid(axis='y', alpha=0.75)"
   ]
  },
  {
   "cell_type": "code",
   "execution_count": 308,
   "id": "75037da7",
   "metadata": {},
   "outputs": [
    {
     "name": "stdout",
     "output_type": "stream",
     "text": [
      "16202.0\n"
     ]
    }
   ],
   "source": [
    "###### Outliers\n",
    "\n",
    "#Finding IQR's for outlier removal\n",
    "\n",
    "Q1 = data[\"Current Loan Amount\"].quantile(0.25)\n",
    "Q3 = data[\"Current Loan Amount\"].quantile(0.75)\n",
    "IQR = Q3 - Q1\n",
    "print(IQR)"
   ]
  },
  {
   "cell_type": "code",
   "execution_count": 309,
   "id": "37681a39",
   "metadata": {},
   "outputs": [
    {
     "data": {
      "text/plain": [
       "5044     99999999\n",
       "5045     99999999\n",
       "5046     99999999\n",
       "5047     99999999\n",
       "5048     99999999\n",
       "           ...   \n",
       "17777    99999999\n",
       "17778    99999999\n",
       "17779    99999999\n",
       "17780    99999999\n",
       "17781    99999999\n",
       "Name: Current Loan Amount, Length: 12738, dtype: int64"
      ]
     },
     "execution_count": 309,
     "metadata": {},
     "output_type": "execute_result"
    }
   ],
   "source": [
    "### outlier\n",
    "data[\"Current Loan Amount\"][((data[\"Current Loan Amount\"] < (Q1 - 1.5 * IQR)) |(data[\"Current Loan Amount\"] > (Q3 + 1.5 * IQR)))]"
   ]
  },
  {
   "cell_type": "code",
   "execution_count": 310,
   "id": "36c24369",
   "metadata": {},
   "outputs": [],
   "source": [
    "#### Replace outliers with NAN\n",
    "\n",
    "temp=np.array(data[\"Current Loan Amount\"].values.tolist())\n",
    "data[\"Current Loan Amount_temp\"] = np.where(temp > 9999998, 'NaN', temp).tolist()\n"
   ]
  },
  {
   "cell_type": "code",
   "execution_count": 311,
   "id": "40ee3782",
   "metadata": {},
   "outputs": [
    {
     "data": {
      "text/plain": [
       "count    76172.000000\n",
       "mean     13933.915756\n",
       "std       8235.921922\n",
       "min        491.000000\n",
       "25%       7810.000000\n",
       "50%      12038.000000\n",
       "75%      19351.000000\n",
       "max      35875.000000\n",
       "Name: Current Loan Amount_temp, dtype: float64"
      ]
     },
     "execution_count": 311,
     "metadata": {},
     "output_type": "execute_result"
    },
    {
     "data": {
      "image/png": "[encoded data removed]",
      "text/plain": [
       "<Figure size 640x480 with 1 Axes>"
      ]
     },
     "metadata": {},
     "output_type": "display_data"
    }
   ],
   "source": [
    "temp=data[\"Current Loan Amount_temp\"][data[\"Current Loan Amount_temp\"]!='NaN'].astype(str).astype(int)\n",
    "temp.plot.hist(grid=True, bins=20, rwidth=0.9,\n",
    "                   color='#607c8e')\n",
    "                   \n",
    "temp.describe()"
   ]
  },
  {
   "cell_type": "code",
   "execution_count": 312,
   "id": "78b14f81",
   "metadata": {},
   "outputs": [],
   "source": [
    "#Replacing the data with 50% percentile or mean\n",
    "temp=np.array(data[\"Current Loan Amount\"].values.tolist())\n",
    "data[\"Current Loan Amount\"] = np.where(temp > 9999998,12038,temp).tolist()\n",
    "\n",
    "data=data.drop(['Current Loan Amount_temp'],axis=1)"
   ]
  },
  {
   "cell_type": "markdown",
   "id": "e2e21439",
   "metadata": {},
   "source": [
    "###### Check \"Term\" Column"
   ]
  },
  {
   "cell_type": "code",
   "execution_count": 313,
   "id": "b7965337",
   "metadata": {},
   "outputs": [
    {
     "name": "stderr",
     "output_type": "stream",
     "text": [
      "D:\\programfiles\\anaconda\\lib\\site-packages\\seaborn\\_decorators.py:36: FutureWarning: Pass the following variables as keyword args: x, y. From version 0.12, the only valid positional argument will be `data`, and passing other arguments without an explicit keyword will result in an error or misinterpretation.\n",
      "  warnings.warn(\n"
     ]
    },
    {
     "data": {
      "image/png": "[encoded data removed]",
      "text/plain": [
       "<Figure size 1000x500 with 1 Axes>"
      ]
     },
     "metadata": {},
     "output_type": "display_data"
    }
   ],
   "source": [
    "status=data[\"Term\"].value_counts() \n",
    "\n",
    "plt.figure(figsize=(10,5))\n",
    "sns.barplot(status.index, status.values, alpha=0.8)\n",
    "plt.title('Loan Term distribution')\n",
    "plt.ylabel('Number of Occurrences', fontsize=12)\n",
    "plt.xlabel('Loan term', fontsize=12)\n",
    "plt.show()"
   ]
  },
  {
   "cell_type": "markdown",
   "id": "1bea3379",
   "metadata": {},
   "source": [
    "###### Check \"Credit Score\" Column"
   ]
  },
  {
   "cell_type": "code",
   "execution_count": 314,
   "id": "87abf2e3",
   "metadata": {},
   "outputs": [
    {
     "data": {
      "text/plain": [
       "count    67572.000000\n",
       "mean      1199.199580\n",
       "std       1680.813805\n",
       "min        585.000000\n",
       "25%        714.000000\n",
       "50%        733.000000\n",
       "75%        744.000000\n",
       "max       7510.000000\n",
       "Name: Credit Score, dtype: float64"
      ]
     },
     "execution_count": 314,
     "metadata": {},
     "output_type": "execute_result"
    }
   ],
   "source": [
    "data[\"Credit Score\"].describe()"
   ]
  },
  {
   "cell_type": "code",
   "execution_count": 315,
   "id": "ba37be64",
   "metadata": {},
   "outputs": [
    {
     "data": {
      "image/png": "[encoded data removed]",
      "text/plain": [
       "<Figure size 640x480 with 1 Axes>"
      ]
     },
     "metadata": {},
     "output_type": "display_data"
    }
   ],
   "source": [
    "data[\"Credit Score\"].plot.box()\n",
    "plt.show();"
   ]
  },
  {
   "cell_type": "code",
   "execution_count": 316,
   "id": "80add645",
   "metadata": {},
   "outputs": [
    {
     "data": {
      "text/plain": [
       "array([False,  True])"
      ]
     },
     "execution_count": 316,
     "metadata": {},
     "output_type": "execute_result"
    }
   ],
   "source": [
    "data[\"Credit Score\"].isnull().unique()\n",
    "#Now lets do treatment of the data at hand. Let us firstly divide the values greater than 800 by 10"
   ]
  },
  {
   "cell_type": "code",
   "execution_count": 317,
   "id": "1a65b1c9",
   "metadata": {},
   "outputs": [],
   "source": [
    "data[\"Credit Score\"]=np.where(data[\"Credit Score\"]>800, data[\"Credit Score\"]/10, data[\"Credit Score\"])"
   ]
  },
  {
   "cell_type": "code",
   "execution_count": 318,
   "id": "403b0ec8",
   "metadata": {},
   "outputs": [],
   "source": [
    "#Now lets replace the missing values with median \n",
    "median_score=statistics.median(data[\"Credit Score\"])\n",
    "\n",
    "data[\"Credit Score_1\"]=data[\"Credit Score\"]\n",
    "data[\"Credit Score_1\"].fillna(median_score, inplace = True) "
   ]
  },
  {
   "cell_type": "code",
   "execution_count": 319,
   "id": "6f9aa7d8",
   "metadata": {},
   "outputs": [
    {
     "data": {
      "image/png": "[encoded data removed]",
      "text/plain": [
       "<Figure size 640x480 with 1 Axes>"
      ]
     },
     "metadata": {},
     "output_type": "display_data"
    }
   ],
   "source": [
    "\n",
    "data[\"Credit Score_1\"].plot.box()\n",
    "\n",
    "plt.show();"
   ]
  },
  {
   "cell_type": "code",
   "execution_count": 320,
   "id": "20d2f221",
   "metadata": {},
   "outputs": [
    {
     "name": "stderr",
     "output_type": "stream",
     "text": [
      "D:\\programfiles\\anaconda\\lib\\site-packages\\seaborn\\distributions.py:2619: FutureWarning: `distplot` is a deprecated function and will be removed in a future version. Please adapt your code to use either `displot` (a figure-level function with similar flexibility) or `histplot` (an axes-level function for histograms).\n",
      "  warnings.warn(msg, FutureWarning)\n",
      "D:\\programfiles\\anaconda\\lib\\site-packages\\seaborn\\distributions.py:2619: FutureWarning: `distplot` is a deprecated function and will be removed in a future version. Please adapt your code to use either `displot` (a figure-level function with similar flexibility) or `histplot` (an axes-level function for histograms).\n",
      "  warnings.warn(msg, FutureWarning)\n"
     ]
    },
    {
     "data": {
      "image/png": "[encoded data removed]",
      "text/plain": [
       "<Figure size 640x480 with 1 Axes>"
      ]
     },
     "metadata": {},
     "output_type": "display_data"
    }
   ],
   "source": [
    "#As we can see this data is skewed so when we replace it with median it is giving us problems. \n",
    "#Replacing with 75th percentile and taking log we get a better distribution\n",
    "data[\"Credit Score\"].fillna(741, inplace = True) \n",
    "\n",
    "sns.distplot(data[\"Credit Score\"])\n",
    "sns.distplot(np.log(data[\"Credit Score\"]))\n",
    "\n",
    "plt.show();"
   ]
  },
  {
   "cell_type": "markdown",
   "id": "908c0f96",
   "metadata": {},
   "source": [
    "###### Check \"Home Ownership\" Column"
   ]
  },
  {
   "cell_type": "code",
   "execution_count": 321,
   "id": "ada4823a",
   "metadata": {},
   "outputs": [
    {
     "data": {
      "text/plain": [
       "array(['Rent', 'Home Mortgage', 'Own Home', 'HaveMortgage'], dtype=object)"
      ]
     },
     "execution_count": 321,
     "metadata": {},
     "output_type": "execute_result"
    }
   ],
   "source": [
    "data['Home Ownership'].unique()\n",
    "#As we can see it has Home Mortgage and haveMortgage as 2 different classes. Lets fix that"
   ]
  },
  {
   "cell_type": "code",
   "execution_count": 322,
   "id": "80bc92a5",
   "metadata": {},
   "outputs": [
    {
     "data": {
      "text/plain": [
       "array(['Rent', 'Home Mortgage', 'Own Home'], dtype=object)"
      ]
     },
     "execution_count": 322,
     "metadata": {},
     "output_type": "execute_result"
    }
   ],
   "source": [
    "data['Home Ownership']=data['Home Ownership'].str.replace('HaveMortgage', 'Home Mortgage', regex=True)\n",
    "\n",
    "data['Home Ownership'].unique()"
   ]
  },
  {
   "cell_type": "markdown",
   "id": "d29a0c4b",
   "metadata": {},
   "source": [
    "###### Check \"Annual Income\" Column"
   ]
  },
  {
   "cell_type": "code",
   "execution_count": 323,
   "id": "33be2575",
   "metadata": {},
   "outputs": [
    {
     "data": {
      "text/plain": [
       "count    6.757200e+04\n",
       "mean     7.234575e+04\n",
       "std      5.836101e+04\n",
       "min      4.033000e+03\n",
       "25%      4.458600e+04\n",
       "50%      6.149400e+04\n",
       "75%      8.675025e+04\n",
       "max      8.713547e+06\n",
       "Name: Annual Income, dtype: float64"
      ]
     },
     "execution_count": 323,
     "metadata": {},
     "output_type": "execute_result"
    }
   ],
   "source": [
    "data['Annual Income'].describe()"
   ]
  },
  {
   "cell_type": "code",
   "execution_count": 324,
   "id": "372e3e20",
   "metadata": {},
   "outputs": [
    {
     "data": {
      "text/plain": [
       "0.200     40764.00\n",
       "0.750     86750.25\n",
       "0.900    119916.00\n",
       "0.950    147645.00\n",
       "0.990    239286.96\n",
       "0.999    491575.77\n",
       "Name: Annual Income, dtype: float64"
      ]
     },
     "execution_count": 324,
     "metadata": {},
     "output_type": "execute_result"
    }
   ],
   "source": [
    "##Lets look at the quantiles of this columns\n",
    "\n",
    "data['Annual Income'].quantile([.2,0.75,0.90,.95,0.99,.999])"
   ]
  },
  {
   "cell_type": "code",
   "execution_count": 325,
   "id": "dc1ec729",
   "metadata": {},
   "outputs": [
    {
     "data": {
      "text/plain": [
       "0.99     239286.96\n",
       "1.00    8713547.00\n",
       "Name: Annual Income, dtype: float64"
      ]
     },
     "execution_count": 325,
     "metadata": {},
     "output_type": "execute_result"
    }
   ],
   "source": [
    "data['Annual Income'].quantile([.99, 1])"
   ]
  },
  {
   "cell_type": "code",
   "execution_count": 326,
   "id": "b49df9f2",
   "metadata": {},
   "outputs": [],
   "source": [
    "#As we can see they lie in the 99th percentile of the data.Lets replace them\n",
    "# Capping any values greater than 99% to 99th value\n",
    "data.loc[data['Annual Income'] > 239287, 'Annual Income'] = 239287"
   ]
  },
  {
   "cell_type": "code",
   "execution_count": 327,
   "id": "d0f9dd4a",
   "metadata": {},
   "outputs": [
    {
     "data": {
      "text/plain": [
       "21338"
      ]
     },
     "execution_count": 327,
     "metadata": {},
     "output_type": "execute_result"
    }
   ],
   "source": [
    "data['Annual Income'].isna().sum()\n",
    "#So we have about 21000 null values \n",
    "\n",
    "##We will impute the mising data with other columns towards the end"
   ]
  },
  {
   "cell_type": "markdown",
   "id": "47572dad",
   "metadata": {},
   "source": [
    "###### Check \"Loan Purpose\" Column"
   ]
  },
  {
   "cell_type": "code",
   "execution_count": 328,
   "id": "81fac3d1",
   "metadata": {},
   "outputs": [
    {
     "data": {
      "text/plain": [
       "Debt Consolidation      70447\n",
       "Home Improvements        5206\n",
       "other                    4917\n",
       "Other                    2850\n",
       "Business Loan            1328\n",
       "Buy a Car                1196\n",
       "Medical Bills             955\n",
       "Buy House                 559\n",
       "Take a Trip               454\n",
       "major_purchase            344\n",
       "small_business            248\n",
       "moving                    124\n",
       "wedding                    99\n",
       "Educational Expenses       92\n",
       "vacation                   82\n",
       "renewable_energy            9\n",
       "Name: Purpose, dtype: int64"
      ]
     },
     "execution_count": 328,
     "metadata": {},
     "output_type": "execute_result"
    }
   ],
   "source": [
    "data['Purpose'].value_counts()\n",
    "#So other and Other mean the same thing. Lets make it the same"
   ]
  },
  {
   "cell_type": "code",
   "execution_count": 329,
   "id": "4c061d96",
   "metadata": {},
   "outputs": [
    {
     "data": {
      "text/plain": [
       "Debt Consolidation      70447\n",
       "other                    7767\n",
       "Home Improvements        5206\n",
       "Business Loan            1328\n",
       "Buy a Car                1196\n",
       "Medical Bills             955\n",
       "Buy House                 559\n",
       "Take a Trip               454\n",
       "major_purchase            344\n",
       "small_business            248\n",
       "moving                    124\n",
       "wedding                    99\n",
       "Educational Expenses       92\n",
       "vacation                   82\n",
       "renewable_energy            9\n",
       "Name: Purpose, dtype: int64"
      ]
     },
     "execution_count": 329,
     "metadata": {},
     "output_type": "execute_result"
    }
   ],
   "source": [
    "data['Purpose']=data['Purpose'].str.replace('Other', 'other', regex=True)\n",
    "data['Purpose'].value_counts()"
   ]
  },
  {
   "cell_type": "markdown",
   "id": "b835cd94",
   "metadata": {},
   "source": [
    "###### Check \"Monthly debt\" Column"
   ]
  },
  {
   "cell_type": "code",
   "execution_count": 330,
   "id": "0cf031c5",
   "metadata": {},
   "outputs": [
    {
     "data": {
      "text/plain": [
       "count     88910\n",
       "unique    70066\n",
       "top           0\n",
       "freq         69\n",
       "Name: Monthly Debt, dtype: object"
      ]
     },
     "execution_count": 330,
     "metadata": {},
     "output_type": "execute_result"
    }
   ],
   "source": [
    "data['Monthly Debt'].describe()"
   ]
  },
  {
   "cell_type": "code",
   "execution_count": 331,
   "id": "a327d27b",
   "metadata": {},
   "outputs": [
    {
     "data": {
      "text/plain": [
       "0         777.39\n",
       "1         892.09\n",
       "2        1244.02\n",
       "3         990.94\n",
       "4         503.71\n",
       "          ...   \n",
       "88905     567.62\n",
       "88906    2508.63\n",
       "88907      818.2\n",
       "88908     360.17\n",
       "88909     749.13\n",
       "Name: Monthly Debt, Length: 88910, dtype: object"
      ]
     },
     "execution_count": 331,
     "metadata": {},
     "output_type": "execute_result"
    }
   ],
   "source": [
    "##So this is not numeric column. Lets explore\n",
    "data['Monthly Debt'] \n",
    "# But this should be a numeric column. So lets convert it to float"
   ]
  },
  {
   "cell_type": "code",
   "execution_count": 332,
   "id": "cd25a474",
   "metadata": {},
   "outputs": [],
   "source": [
    "#As we can see there is a $ symbol present. Lets replace it \n",
    "data['Monthly Debt']=data['Monthly Debt'].str.replace('$', '', regex=True)"
   ]
  },
  {
   "cell_type": "code",
   "execution_count": 333,
   "id": "c78ea6a2",
   "metadata": {},
   "outputs": [
    {
     "name": "stderr",
     "output_type": "stream",
     "text": [
      "D:\\programfiles\\anaconda\\lib\\site-packages\\seaborn\\distributions.py:2619: FutureWarning: `distplot` is a deprecated function and will be removed in a future version. Please adapt your code to use either `displot` (a figure-level function with similar flexibility) or `histplot` (an axes-level function for histograms).\n",
      "  warnings.warn(msg, FutureWarning)\n"
     ]
    },
    {
     "data": {
      "image/png": "[encoded data removed]",
      "text/plain": [
       "<Figure size 640x480 with 1 Axes>"
      ]
     },
     "metadata": {},
     "output_type": "display_data"
    }
   ],
   "source": [
    "#my_change-commented next line\n",
    "data['Monthly Debt']=pd.to_numeric(data['Monthly Debt'] )\n",
    "\n",
    "sns.distplot(data[\"Monthly Debt\"])\n",
    "plt.show();\n",
    "#We can see that there are outliers in this data because of the plot\n",
    "#Lets explore"
   ]
  },
  {
   "cell_type": "code",
   "execution_count": 334,
   "id": "f104ce09",
   "metadata": {},
   "outputs": [
    {
     "data": {
      "text/plain": [
       "count    88910.000000\n",
       "mean       963.102059\n",
       "std        637.524064\n",
       "min          0.000000\n",
       "25%        532.220000\n",
       "50%        843.925000\n",
       "75%       1250.527500\n",
       "max      22939.120000\n",
       "Name: Monthly Debt, dtype: float64"
      ]
     },
     "execution_count": 334,
     "metadata": {},
     "output_type": "execute_result"
    }
   ],
   "source": [
    "data['Monthly Debt'].describe()\n",
    "#The max value is too high here"
   ]
  },
  {
   "cell_type": "code",
   "execution_count": 335,
   "id": "b3580492",
   "metadata": {},
   "outputs": [
    {
     "data": {
      "text/plain": [
       "0.200     463.75000\n",
       "0.750    1250.52750\n",
       "0.900    1743.08300\n",
       "0.950    2115.51100\n",
       "0.990    3087.11100\n",
       "0.999    4926.37475\n",
       "Name: Monthly Debt, dtype: float64"
      ]
     },
     "execution_count": 335,
     "metadata": {},
     "output_type": "execute_result"
    }
   ],
   "source": [
    "data['Monthly Debt'].quantile([.2,0.75,0.90,.95,0.99,.999])\n",
    "\n",
    "#Problem is with 99th percentile. lets dig deeper"
   ]
  },
  {
   "cell_type": "code",
   "execution_count": 336,
   "id": "c9ba7e58",
   "metadata": {},
   "outputs": [
    {
     "data": {
      "text/plain": [
       "0.9995    5482.111455\n",
       "0.9999    7774.610660\n",
       "Name: Monthly Debt, dtype: float64"
      ]
     },
     "execution_count": 336,
     "metadata": {},
     "output_type": "execute_result"
    }
   ],
   "source": [
    "data['Monthly Debt'].quantile([0.9995,.9999])\n",
    "#So problem again is wit 99th percentile"
   ]
  },
  {
   "cell_type": "code",
   "execution_count": 337,
   "id": "58d9f633",
   "metadata": {},
   "outputs": [
    {
     "data": {
      "text/plain": [
       "0.99970     5978.574911\n",
       "0.99999    13262.762330\n",
       "Name: Monthly Debt, dtype: float64"
      ]
     },
     "execution_count": 337,
     "metadata": {},
     "output_type": "execute_result"
    }
   ],
   "source": [
    "data['Monthly Debt'].quantile([0.9997,.99999])"
   ]
  },
  {
   "cell_type": "code",
   "execution_count": 338,
   "id": "fc214e3f",
   "metadata": {},
   "outputs": [
    {
     "data": {
      "text/plain": [
       "0.999     4926.37475\n",
       "1.000    22939.12000\n",
       "Name: Monthly Debt, dtype: float64"
      ]
     },
     "execution_count": 338,
     "metadata": {},
     "output_type": "execute_result"
    }
   ],
   "source": [
    "data['Monthly Debt'].quantile([0.999,1])\n",
    "#Need to replace this"
   ]
  },
  {
   "cell_type": "code",
   "execution_count": 339,
   "id": "1200a06a",
   "metadata": {},
   "outputs": [],
   "source": [
    "data.loc[data['Monthly Debt'] > 4926, 'Monthly Debt'] = 4926"
   ]
  },
  {
   "cell_type": "code",
   "execution_count": 340,
   "id": "10ce1e1b",
   "metadata": {},
   "outputs": [
    {
     "name": "stderr",
     "output_type": "stream",
     "text": [
      "D:\\programfiles\\anaconda\\lib\\site-packages\\seaborn\\distributions.py:2619: FutureWarning: `distplot` is a deprecated function and will be removed in a future version. Please adapt your code to use either `displot` (a figure-level function with similar flexibility) or `histplot` (an axes-level function for histograms).\n",
      "  warnings.warn(msg, FutureWarning)\n"
     ]
    },
    {
     "data": {
      "image/png": "[encoded data removed]",
      "text/plain": [
       "<Figure size 640x480 with 1 Axes>"
      ]
     },
     "metadata": {},
     "output_type": "display_data"
    }
   ],
   "source": [
    "sns.distplot(data[\"Monthly Debt\"])\n",
    "plt.show();\n",
    "#Now we get the right distribution"
   ]
  },
  {
   "cell_type": "markdown",
   "id": "4c7f4b61",
   "metadata": {},
   "source": [
    "###### Check \"Years of credit history\" Column"
   ]
  },
  {
   "cell_type": "code",
   "execution_count": 341,
   "id": "08f85b7f",
   "metadata": {},
   "outputs": [
    {
     "data": {
      "text/plain": [
       "16.0    1234\n",
       "15.0    1159\n",
       "17.0    1091\n",
       "16.5    1045\n",
       "14.0    1031\n",
       "        ... \n",
       "51.6       1\n",
       "59.5       1\n",
       "62.5       1\n",
       "65.0       1\n",
       "51.3       1\n",
       "Name: Years of Credit History, Length: 508, dtype: int64"
      ]
     },
     "execution_count": 341,
     "metadata": {},
     "output_type": "execute_result"
    }
   ],
   "source": [
    "data['Years of Credit History'].value_counts()\n"
   ]
  },
  {
   "cell_type": "markdown",
   "id": "c20a8835",
   "metadata": {},
   "source": [
    "###### Check \"Months since last delinquent\" Column"
   ]
  },
  {
   "cell_type": "code",
   "execution_count": 342,
   "id": "3b604a35",
   "metadata": {},
   "outputs": [
    {
     "data": {
      "text/plain": [
       "count    40404.000000\n",
       "mean        35.080289\n",
       "std         22.008583\n",
       "min          0.000000\n",
       "25%         16.000000\n",
       "50%         32.000000\n",
       "75%         51.000000\n",
       "max        176.000000\n",
       "Name: Months since last delinquent, dtype: float64"
      ]
     },
     "execution_count": 342,
     "metadata": {},
     "output_type": "execute_result"
    }
   ],
   "source": [
    "data['Months since last delinquent'].describe()"
   ]
  },
  {
   "cell_type": "code",
   "execution_count": 343,
   "id": "bafbe406",
   "metadata": {},
   "outputs": [
    {
     "data": {
      "text/plain": [
       "48506"
      ]
     },
     "execution_count": 343,
     "metadata": {},
     "output_type": "execute_result"
    }
   ],
   "source": [
    "#Lets check if there are any NA's\n",
    "data['Months since last delinquent'].isna().sum()\n",
    "#We have nearly 48506 NA;s. We will try to handle them at last "
   ]
  },
  {
   "cell_type": "markdown",
   "id": "b9578816",
   "metadata": {},
   "source": [
    "###### Check \"Number of open accounts\" Column"
   ]
  },
  {
   "cell_type": "code",
   "execution_count": 344,
   "id": "09e0a72e",
   "metadata": {},
   "outputs": [
    {
     "data": {
      "text/plain": [
       "count    88910.000000\n",
       "mean        11.110348\n",
       "std          4.978461\n",
       "min          0.000000\n",
       "25%          8.000000\n",
       "50%         10.000000\n",
       "75%         14.000000\n",
       "max         76.000000\n",
       "Name: Number of Open Accounts, dtype: float64"
      ]
     },
     "execution_count": 344,
     "metadata": {},
     "output_type": "execute_result"
    }
   ],
   "source": [
    "data['Number of Open Accounts'].describe()\n",
    "\n",
    "#The max number seems odd. Lets investigate"
   ]
  },
  {
   "cell_type": "code",
   "execution_count": 345,
   "id": "aece028f",
   "metadata": {},
   "outputs": [
    {
     "name": "stderr",
     "output_type": "stream",
     "text": [
      "D:\\programfiles\\anaconda\\lib\\site-packages\\seaborn\\distributions.py:2619: FutureWarning: `distplot` is a deprecated function and will be removed in a future version. Please adapt your code to use either `displot` (a figure-level function with similar flexibility) or `histplot` (an axes-level function for histograms).\n",
      "  warnings.warn(msg, FutureWarning)\n"
     ]
    },
    {
     "data": {
      "text/plain": [
       "<AxesSubplot:xlabel='Number of Open Accounts', ylabel='Density'>"
      ]
     },
     "execution_count": 345,
     "metadata": {},
     "output_type": "execute_result"
    },
    {
     "data": {
      "image/png": "[encoded data removed]",
      "text/plain": [
       "<Figure size 640x480 with 1 Axes>"
      ]
     },
     "metadata": {},
     "output_type": "display_data"
    }
   ],
   "source": [
    "sns.distplot(data['Number of Open Accounts'])\n",
    "#Yes there are outliers in this columns. Let dig deeper"
   ]
  },
  {
   "cell_type": "code",
   "execution_count": 346,
   "id": "c27d1c9f",
   "metadata": {},
   "outputs": [
    {
     "data": {
      "text/plain": [
       "0.750    14.0\n",
       "0.999    36.0\n",
       "1.000    76.0\n",
       "Name: Number of Open Accounts, dtype: float64"
      ]
     },
     "execution_count": 346,
     "metadata": {},
     "output_type": "execute_result"
    }
   ],
   "source": [
    "data['Number of Open Accounts'].quantile([0.75,0.999,1])\n",
    "#Ok so replacing anything greater than 99th percentile with 99th percentile values"
   ]
  },
  {
   "cell_type": "code",
   "execution_count": 347,
   "id": "5f534774",
   "metadata": {},
   "outputs": [],
   "source": [
    "data.loc[data['Number of Open Accounts'] > 36, 'Number of Open Accounts'] = 36"
   ]
  },
  {
   "cell_type": "code",
   "execution_count": 348,
   "id": "389677d1",
   "metadata": {},
   "outputs": [
    {
     "name": "stderr",
     "output_type": "stream",
     "text": [
      "D:\\programfiles\\anaconda\\lib\\site-packages\\seaborn\\distributions.py:2619: FutureWarning: `distplot` is a deprecated function and will be removed in a future version. Please adapt your code to use either `displot` (a figure-level function with similar flexibility) or `histplot` (an axes-level function for histograms).\n",
      "  warnings.warn(msg, FutureWarning)\n"
     ]
    },
    {
     "data": {
      "text/plain": [
       "<AxesSubplot:xlabel='Number of Open Accounts', ylabel='Density'>"
      ]
     },
     "execution_count": 348,
     "metadata": {},
     "output_type": "execute_result"
    },
    {
     "data": {
      "image/png": "[encoded data removed]",
      "text/plain": [
       "<Figure size 640x480 with 1 Axes>"
      ]
     },
     "metadata": {},
     "output_type": "display_data"
    }
   ],
   "source": [
    "sns.distplot(data['Number of Open Accounts'])\n",
    "#Looks good now"
   ]
  },
  {
   "cell_type": "markdown",
   "id": "ce6a99b8",
   "metadata": {},
   "source": [
    "###### Check \"Number of Credit problems\" Column"
   ]
  },
  {
   "cell_type": "code",
   "execution_count": 349,
   "id": "64293d8a",
   "metadata": {},
   "outputs": [
    {
     "data": {
      "text/plain": [
       "count    88910.000000\n",
       "mean         0.160477\n",
       "std          0.473746\n",
       "min          0.000000\n",
       "25%          0.000000\n",
       "50%          0.000000\n",
       "75%          0.000000\n",
       "max         15.000000\n",
       "Name: Number of Credit Problems, dtype: float64"
      ]
     },
     "execution_count": 349,
     "metadata": {},
     "output_type": "execute_result"
    }
   ],
   "source": [
    "data['Number of Credit Problems'].describe() \n",
    "#Max looks a bit higher. Lets see"
   ]
  },
  {
   "cell_type": "code",
   "execution_count": 350,
   "id": "303ae872",
   "metadata": {},
   "outputs": [
    {
     "name": "stderr",
     "output_type": "stream",
     "text": [
      "D:\\programfiles\\anaconda\\lib\\site-packages\\seaborn\\distributions.py:2619: FutureWarning: `distplot` is a deprecated function and will be removed in a future version. Please adapt your code to use either `displot` (a figure-level function with similar flexibility) or `histplot` (an axes-level function for histograms).\n",
      "  warnings.warn(msg, FutureWarning)\n"
     ]
    },
    {
     "data": {
      "text/plain": [
       "<AxesSubplot:xlabel='Number of Credit Problems', ylabel='Density'>"
      ]
     },
     "execution_count": 350,
     "metadata": {},
     "output_type": "execute_result"
    },
    {
     "data": {
      "image/png": "[encoded data removed]",
      "text/plain": [
       "<Figure size 640x480 with 1 Axes>"
      ]
     },
     "metadata": {},
     "output_type": "display_data"
    }
   ],
   "source": [
    "sns.distplot(data['Number of Credit Problems'])\n",
    "#Okay lets look at value _counts"
   ]
  },
  {
   "cell_type": "code",
   "execution_count": 351,
   "id": "388b50db",
   "metadata": {},
   "outputs": [
    {
     "data": {
      "text/plain": [
       "0     77057\n",
       "1     10271\n",
       "2      1092\n",
       "3       311\n",
       "4       101\n",
       "5        46\n",
       "6        14\n",
       "7         6\n",
       "9         4\n",
       "10        3\n",
       "8         2\n",
       "12        1\n",
       "15        1\n",
       "11        1\n",
       "Name: Number of Credit Problems, dtype: int64"
      ]
     },
     "execution_count": 351,
     "metadata": {},
     "output_type": "execute_result"
    }
   ],
   "source": [
    "data['Number of Credit Problems'].value_counts()\n",
    "#Okay looks good"
   ]
  },
  {
   "cell_type": "markdown",
   "id": "91e22afd",
   "metadata": {},
   "source": [
    "###### Check \"Current Credit Balance\" Column"
   ]
  },
  {
   "cell_type": "code",
   "execution_count": 352,
   "id": "4b705f82",
   "metadata": {},
   "outputs": [
    {
     "data": {
      "text/plain": [
       "count    8.891000e+04\n",
       "mean     1.543593e+04\n",
       "std      1.965873e+04\n",
       "min      0.000000e+00\n",
       "25%      5.949000e+03\n",
       "50%      1.103900e+04\n",
       "75%      1.930100e+04\n",
       "max      1.730472e+06\n",
       "Name: Current Credit Balance, dtype: float64"
      ]
     },
     "execution_count": 352,
     "metadata": {},
     "output_type": "execute_result"
    }
   ],
   "source": [
    "data['Current Credit Balance'].describe()"
   ]
  },
  {
   "cell_type": "code",
   "execution_count": 353,
   "id": "3b1818fc",
   "metadata": {},
   "outputs": [
    {
     "name": "stderr",
     "output_type": "stream",
     "text": [
      "D:\\programfiles\\anaconda\\lib\\site-packages\\seaborn\\distributions.py:2619: FutureWarning: `distplot` is a deprecated function and will be removed in a future version. Please adapt your code to use either `displot` (a figure-level function with similar flexibility) or `histplot` (an axes-level function for histograms).\n",
      "  warnings.warn(msg, FutureWarning)\n"
     ]
    },
    {
     "data": {
      "text/plain": [
       "<AxesSubplot:xlabel='Current Credit Balance', ylabel='Density'>"
      ]
     },
     "execution_count": 353,
     "metadata": {},
     "output_type": "execute_result"
    },
    {
     "data": {
      "image/png": "[encoded data removed]",
      "text/plain": [
       "<Figure size 640x480 with 1 Axes>"
      ]
     },
     "metadata": {},
     "output_type": "display_data"
    }
   ],
   "source": [
    "sns.distplot(data['Current Credit Balance'])\n",
    "#It seems there are outliers in this data. Lets investigate"
   ]
  },
  {
   "cell_type": "code",
   "execution_count": 354,
   "id": "9f4c0fef",
   "metadata": {},
   "outputs": [
    {
     "data": {
      "text/plain": [
       "0.750      19301.000\n",
       "0.950      39933.300\n",
       "0.999     227670.033\n",
       "1.000    1730472.000\n",
       "Name: Current Credit Balance, dtype: float64"
      ]
     },
     "execution_count": 354,
     "metadata": {},
     "output_type": "execute_result"
    }
   ],
   "source": [
    "data['Current Credit Balance'].quantile([0.75,0.95,0.999,1])\n",
    "\n",
    "#0.750      19301.000\n",
    "#0.950      39933.300\n",
    "#0.999     227670.033\n",
    "#1.000    1730472.000"
   ]
  },
  {
   "cell_type": "code",
   "execution_count": 355,
   "id": "2d9ee365",
   "metadata": {},
   "outputs": [
    {
     "data": {
      "text/plain": [
       "0.95      39933.30\n",
       "0.96      43501.20\n",
       "0.97      48507.73\n",
       "0.98      57938.12\n",
       "0.99      81007.19\n",
       "1.00    1730472.00\n",
       "Name: Current Credit Balance, dtype: float64"
      ]
     },
     "execution_count": 355,
     "metadata": {},
     "output_type": "execute_result"
    }
   ],
   "source": [
    "#lets dig deeper\n",
    "\n",
    "data['Current Credit Balance'].quantile([0.95,0.96,0.97,0.98,0.99,1])"
   ]
  },
  {
   "cell_type": "code",
   "execution_count": 356,
   "id": "93019e91",
   "metadata": {},
   "outputs": [
    {
     "data": {
      "text/plain": [
       "0.55      12295.00\n",
       "0.76      19805.84\n",
       "0.87      27525.66\n",
       "0.98      57938.12\n",
       "0.99      81007.19\n",
       "1.00    1730472.00\n",
       "Name: Current Credit Balance, dtype: float64"
      ]
     },
     "execution_count": 356,
     "metadata": {},
     "output_type": "execute_result"
    }
   ],
   "source": [
    "#So lets replace it with 95th percentile\n",
    "\n",
    "data['Current Credit Balance'].quantile([0.55,0.76,0.87,0.98,0.99,1])"
   ]
  },
  {
   "cell_type": "code",
   "execution_count": 357,
   "id": "636ef3c2",
   "metadata": {},
   "outputs": [],
   "source": [
    "data.loc[data['Current Credit Balance'] > 81007, 'Current Credit Balance'] = 81007"
   ]
  },
  {
   "cell_type": "code",
   "execution_count": 358,
   "id": "7fd8976c",
   "metadata": {},
   "outputs": [
    {
     "name": "stderr",
     "output_type": "stream",
     "text": [
      "D:\\programfiles\\anaconda\\lib\\site-packages\\seaborn\\distributions.py:2619: FutureWarning: `distplot` is a deprecated function and will be removed in a future version. Please adapt your code to use either `displot` (a figure-level function with similar flexibility) or `histplot` (an axes-level function for histograms).\n",
      "  warnings.warn(msg, FutureWarning)\n"
     ]
    },
    {
     "data": {
      "text/plain": [
       "<AxesSubplot:xlabel='Current Credit Balance', ylabel='Density'>"
      ]
     },
     "execution_count": 358,
     "metadata": {},
     "output_type": "execute_result"
    },
    {
     "data": {
      "image/png": "[encoded data removed]",
      "text/plain": [
       "<Figure size 640x480 with 1 Axes>"
      ]
     },
     "metadata": {},
     "output_type": "display_data"
    }
   ],
   "source": [
    "sns.distplot(data['Current Credit Balance']**(1/2))\n",
    "#The plot doesnt look good. We need to transform it"
   ]
  },
  {
   "cell_type": "code",
   "execution_count": 359,
   "id": "eee4e104",
   "metadata": {},
   "outputs": [],
   "source": [
    "data['Current Credit Balance']=data['Current Credit Balance']**(1/2)"
   ]
  },
  {
   "cell_type": "markdown",
   "id": "7098691b",
   "metadata": {},
   "source": [
    "###### Check \"Max open credit\" Column"
   ]
  },
  {
   "cell_type": "code",
   "execution_count": 360,
   "id": "87a6b6d6",
   "metadata": {},
   "outputs": [
    {
     "data": {
      "text/plain": [
       "count     88910\n",
       "unique    46625\n",
       "top           0\n",
       "freq        610\n",
       "Name: Maximum Open Credit, dtype: object"
      ]
     },
     "execution_count": 360,
     "metadata": {},
     "output_type": "execute_result"
    }
   ],
   "source": [
    "data['Maximum Open Credit'].describe()"
   ]
  },
  {
   "cell_type": "code",
   "execution_count": 361,
   "id": "51b7679d",
   "metadata": {},
   "outputs": [
    {
     "data": {
      "text/plain": [
       "0        610\n",
       "10782     10\n",
       "14382     10\n",
       "17464     10\n",
       "11044     10\n",
       "        ... \n",
       "46635      1\n",
       "25110      1\n",
       "54780      1\n",
       "42402      1\n",
       "53374      1\n",
       "Name: Maximum Open Credit, Length: 46625, dtype: int64"
      ]
     },
     "execution_count": 361,
     "metadata": {},
     "output_type": "execute_result"
    }
   ],
   "source": [
    "data['Maximum Open Credit'].value_counts()\n",
    "\n",
    "#my_change - commenting next line and pd.to_numeric..\n",
    "#sns.distplot(data['Maximum Open Credit'])\n",
    "#So there are some str characters present in the data. Lets find them\n",
    "\n",
    "#pd.to_numeric(data['Maximum Open Credit'])"
   ]
  },
  {
   "cell_type": "code",
   "execution_count": 362,
   "id": "a372a899",
   "metadata": {},
   "outputs": [],
   "source": [
    "#Lets replace #value with Nan\n",
    "data['Maximum Open Credit']=data['Maximum Open Credit'].replace('#VALUE!', np.nan, regex=True)"
   ]
  },
  {
   "cell_type": "code",
   "execution_count": 363,
   "id": "b5ef4ce5",
   "metadata": {},
   "outputs": [],
   "source": [
    "    \n",
    "data['Maximum Open Credit']=pd.to_numeric(data['Maximum Open Credit'])"
   ]
  },
  {
   "cell_type": "code",
   "execution_count": 364,
   "id": "1f02efd3",
   "metadata": {},
   "outputs": [
    {
     "data": {
      "text/plain": [
       "2"
      ]
     },
     "execution_count": 364,
     "metadata": {},
     "output_type": "execute_result"
    }
   ],
   "source": [
    "data['Maximum Open Credit'].isnull().sum()\n",
    "#Now we have only 2 Nan;s in the data. Lets replace them with mean  "
   ]
  },
  {
   "cell_type": "code",
   "execution_count": 365,
   "id": "fe5cfa31",
   "metadata": {},
   "outputs": [],
   "source": [
    "data['Maximum Open Credit']=data['Maximum Open Credit'].fillna(35965)"
   ]
  },
  {
   "cell_type": "code",
   "execution_count": 366,
   "id": "39190c40",
   "metadata": {},
   "outputs": [
    {
     "data": {
      "text/plain": [
       "0.55       24037.95\n",
       "0.76       37259.84\n",
       "0.87       50736.66\n",
       "0.98      114682.56\n",
       "0.99      171423.91\n",
       "1.00    69988086.00\n",
       "Name: Maximum Open Credit, dtype: float64"
      ]
     },
     "execution_count": 366,
     "metadata": {},
     "output_type": "execute_result"
    }
   ],
   "source": [
    "data['Maximum Open Credit'].quantile([0.55,0.76,0.87,0.98,0.99,1])\n",
    "\n",
    "#Lets replace the outliers"
   ]
  },
  {
   "cell_type": "code",
   "execution_count": 367,
   "id": "e806660f",
   "metadata": {},
   "outputs": [],
   "source": [
    "data.loc[data['Maximum Open Credit'] > 171423, 'Maximum Open Credit'] = 171423\n",
    "\n",
    "#Looks much better now"
   ]
  },
  {
   "cell_type": "code",
   "execution_count": 368,
   "id": "eeb96e2d",
   "metadata": {},
   "outputs": [],
   "source": [
    "###### Check \"Bankruptcies\" Column"
   ]
  },
  {
   "cell_type": "code",
   "execution_count": 369,
   "id": "fd458c71",
   "metadata": {},
   "outputs": [
    {
     "data": {
      "text/plain": [
       "count    88718.000000\n",
       "mean         0.112672\n",
       "std          0.343300\n",
       "min          0.000000\n",
       "25%          0.000000\n",
       "50%          0.000000\n",
       "75%          0.000000\n",
       "max          7.000000\n",
       "Name: Bankruptcies, dtype: float64"
      ]
     },
     "execution_count": 369,
     "metadata": {},
     "output_type": "execute_result"
    }
   ],
   "source": [
    "data['Bankruptcies'].describe()"
   ]
  },
  {
   "cell_type": "code",
   "execution_count": 370,
   "id": "599735a7",
   "metadata": {},
   "outputs": [
    {
     "data": {
      "text/plain": [
       "0.0    79323\n",
       "1.0     8936\n",
       "2.0      353\n",
       "3.0       80\n",
       "4.0       19\n",
       "5.0        5\n",
       "7.0        1\n",
       "6.0        1\n",
       "Name: Bankruptcies, dtype: int64"
      ]
     },
     "execution_count": 370,
     "metadata": {},
     "output_type": "execute_result"
    }
   ],
   "source": [
    "data['Bankruptcies'].value_counts()"
   ]
  },
  {
   "cell_type": "code",
   "execution_count": 371,
   "id": "f72412f5",
   "metadata": {},
   "outputs": [
    {
     "data": {
      "text/plain": [
       "array([ 0.,  1., nan,  2.,  4.,  3.,  5.,  7.,  6.])"
      ]
     },
     "execution_count": 371,
     "metadata": {},
     "output_type": "execute_result"
    }
   ],
   "source": [
    "data['Bankruptcies'].unique()"
   ]
  },
  {
   "cell_type": "code",
   "execution_count": 372,
   "id": "317ad49b",
   "metadata": {},
   "outputs": [],
   "source": [
    "#So we have Nan's. Lets fill them with median"
   ]
  },
  {
   "cell_type": "code",
   "execution_count": 373,
   "id": "258bc4dd",
   "metadata": {},
   "outputs": [],
   "source": [
    "data['Bankruptcies']=data['Bankruptcies'].fillna(3)\n",
    "#Looks good"
   ]
  },
  {
   "cell_type": "code",
   "execution_count": 374,
   "id": "ddf201c1",
   "metadata": {},
   "outputs": [],
   "source": [
    "###### Check \"Tax Liens\" Column"
   ]
  },
  {
   "cell_type": "code",
   "execution_count": 375,
   "id": "5734726b",
   "metadata": {},
   "outputs": [
    {
     "data": {
      "text/plain": [
       "count    88902.000000\n",
       "mean         0.028222\n",
       "std          0.257533\n",
       "min          0.000000\n",
       "25%          0.000000\n",
       "50%          0.000000\n",
       "75%          0.000000\n",
       "max         15.000000\n",
       "Name: Tax Liens, dtype: float64"
      ]
     },
     "execution_count": 375,
     "metadata": {},
     "output_type": "execute_result"
    }
   ],
   "source": [
    "data['Tax Liens'].describe()"
   ]
  },
  {
   "cell_type": "code",
   "execution_count": 376,
   "id": "76b7e0a7",
   "metadata": {},
   "outputs": [
    {
     "data": {
      "text/plain": [
       "0.0     87274\n",
       "1.0      1132\n",
       "2.0       305\n",
       "3.0        99\n",
       "4.0        52\n",
       "5.0        17\n",
       "6.0         9\n",
       "7.0         5\n",
       "9.0         4\n",
       "8.0         2\n",
       "15.0        1\n",
       "10.0        1\n",
       "11.0        1\n",
       "Name: Tax Liens, dtype: int64"
      ]
     },
     "execution_count": 376,
     "metadata": {},
     "output_type": "execute_result"
    }
   ],
   "source": [
    "data['Tax Liens'].value_counts()"
   ]
  },
  {
   "cell_type": "code",
   "execution_count": 377,
   "id": "c83e3aa2",
   "metadata": {},
   "outputs": [
    {
     "data": {
      "text/plain": [
       "array([0., 1., 3., 2., 4., 5., 7., 6.])"
      ]
     },
     "execution_count": 377,
     "metadata": {},
     "output_type": "execute_result"
    }
   ],
   "source": [
    "data['Bankruptcies'].unique()"
   ]
  },
  {
   "cell_type": "markdown",
   "id": "8433ada5",
   "metadata": {},
   "source": [
    "###### Impute missing values to the columns which have NA's"
   ]
  },
  {
   "cell_type": "code",
   "execution_count": 378,
   "id": "f9141cbf",
   "metadata": {},
   "outputs": [
    {
     "name": "stdout",
     "output_type": "stream",
     "text": [
      "[SoftImpute] Max Singular Value of X_init = 23093178.728555\n",
      "[SoftImpute] Iter 1: observed MAE=260.267050 rank=3\n",
      "[SoftImpute] Iter 2: observed MAE=260.223447 rank=3\n",
      "[SoftImpute] Iter 3: observed MAE=260.229275 rank=3\n",
      "[SoftImpute] Iter 4: observed MAE=260.247793 rank=3\n",
      "[SoftImpute] Iter 5: observed MAE=260.269172 rank=3\n",
      "[SoftImpute] Iter 6: observed MAE=260.290642 rank=3\n",
      "[SoftImpute] Iter 7: observed MAE=260.311324 rank=3\n",
      "[SoftImpute] Iter 8: observed MAE=260.330859 rank=3\n",
      "[SoftImpute] Iter 9: observed MAE=260.349252 rank=3\n",
      "[SoftImpute] Iter 10: observed MAE=260.366362 rank=3\n",
      "[SoftImpute] Iter 11: observed MAE=260.382276 rank=3\n",
      "[SoftImpute] Iter 12: observed MAE=260.396916 rank=3\n",
      "[SoftImpute] Iter 13: observed MAE=260.410387 rank=3\n",
      "[SoftImpute] Iter 14: observed MAE=260.422661 rank=3\n",
      "[SoftImpute] Iter 15: observed MAE=260.433791 rank=3\n",
      "[SoftImpute] Iter 16: observed MAE=260.443797 rank=3\n",
      "[SoftImpute] Iter 17: observed MAE=260.452806 rank=3\n",
      "[SoftImpute] Iter 18: observed MAE=260.460949 rank=3\n",
      "[SoftImpute] Iter 19: observed MAE=260.468084 rank=3\n",
      "[SoftImpute] Iter 20: observed MAE=260.474315 rank=3\n",
      "[SoftImpute] Iter 21: observed MAE=260.479706 rank=3\n",
      "[SoftImpute] Iter 22: observed MAE=260.484304 rank=3\n",
      "[SoftImpute] Iter 23: observed MAE=260.488092 rank=3\n",
      "[SoftImpute] Iter 24: observed MAE=260.491143 rank=3\n",
      "[SoftImpute] Iter 25: observed MAE=260.493523 rank=3\n",
      "[SoftImpute] Iter 26: observed MAE=260.495274 rank=3\n",
      "[SoftImpute] Iter 27: observed MAE=260.496378 rank=3\n",
      "[SoftImpute] Iter 28: observed MAE=260.496936 rank=3\n",
      "[SoftImpute] Iter 29: observed MAE=260.496908 rank=3\n",
      "[SoftImpute] Iter 30: observed MAE=260.496275 rank=3\n",
      "[SoftImpute] Iter 31: observed MAE=260.495106 rank=3\n",
      "[SoftImpute] Iter 32: observed MAE=260.493394 rank=3\n",
      "[SoftImpute] Iter 33: observed MAE=260.491201 rank=3\n",
      "[SoftImpute] Iter 34: observed MAE=260.488639 rank=3\n",
      "[SoftImpute] Iter 35: observed MAE=260.485676 rank=3\n",
      "[SoftImpute] Iter 36: observed MAE=260.482424 rank=3\n",
      "[SoftImpute] Iter 37: observed MAE=260.478879 rank=3\n",
      "[SoftImpute] Iter 38: observed MAE=260.475029 rank=3\n",
      "[SoftImpute] Iter 39: observed MAE=260.470864 rank=3\n",
      "[SoftImpute] Iter 40: observed MAE=260.466399 rank=3\n",
      "[SoftImpute] Iter 41: observed MAE=260.461722 rank=3\n",
      "[SoftImpute] Iter 42: observed MAE=260.456802 rank=3\n",
      "[SoftImpute] Iter 43: observed MAE=260.451656 rank=3\n",
      "[SoftImpute] Iter 44: observed MAE=260.446370 rank=3\n",
      "[SoftImpute] Iter 45: observed MAE=260.440887 rank=3\n",
      "[SoftImpute] Iter 46: observed MAE=260.435279 rank=3\n",
      "[SoftImpute] Iter 47: observed MAE=260.429545 rank=3\n",
      "[SoftImpute] Iter 48: observed MAE=260.423679 rank=3\n",
      "[SoftImpute] Iter 49: observed MAE=260.417694 rank=3\n",
      "[SoftImpute] Iter 50: observed MAE=260.411593 rank=3\n",
      "[SoftImpute] Iter 51: observed MAE=260.405376 rank=3\n",
      "[SoftImpute] Iter 52: observed MAE=260.399091 rank=3\n",
      "[SoftImpute] Iter 53: observed MAE=260.392744 rank=3\n",
      "[SoftImpute] Iter 54: observed MAE=260.386319 rank=3\n",
      "[SoftImpute] Iter 55: observed MAE=260.379881 rank=3\n",
      "[SoftImpute] Iter 56: observed MAE=260.373456 rank=3\n",
      "[SoftImpute] Iter 57: observed MAE=260.367029 rank=3\n",
      "[SoftImpute] Iter 58: observed MAE=260.360564 rank=3\n",
      "[SoftImpute] Iter 59: observed MAE=260.354070 rank=3\n",
      "[SoftImpute] Iter 60: observed MAE=260.347581 rank=3\n",
      "[SoftImpute] Iter 61: observed MAE=260.341093 rank=3\n",
      "[SoftImpute] Iter 62: observed MAE=260.334616 rank=3\n",
      "[SoftImpute] Iter 63: observed MAE=260.328146 rank=3\n",
      "[SoftImpute] Iter 64: observed MAE=260.321696 rank=3\n",
      "[SoftImpute] Iter 65: observed MAE=260.315252 rank=3\n",
      "[SoftImpute] Iter 66: observed MAE=260.308844 rank=3\n",
      "[SoftImpute] Iter 67: observed MAE=260.302476 rank=3\n",
      "[SoftImpute] Iter 68: observed MAE=260.296158 rank=3\n",
      "[SoftImpute] Iter 69: observed MAE=260.289905 rank=3\n",
      "[SoftImpute] Iter 70: observed MAE=260.283710 rank=3\n",
      "[SoftImpute] Iter 71: observed MAE=260.277566 rank=3\n",
      "[SoftImpute] Iter 72: observed MAE=260.271482 rank=3\n",
      "[SoftImpute] Iter 73: observed MAE=260.265450 rank=3\n",
      "[SoftImpute] Iter 74: observed MAE=260.259497 rank=3\n",
      "[SoftImpute] Iter 75: observed MAE=260.253613 rank=3\n",
      "[SoftImpute] Iter 76: observed MAE=260.247787 rank=3\n",
      "[SoftImpute] Iter 77: observed MAE=260.242020 rank=3\n",
      "[SoftImpute] Iter 78: observed MAE=260.236324 rank=3\n",
      "[SoftImpute] Iter 79: observed MAE=260.230691 rank=3\n",
      "[SoftImpute] Iter 80: observed MAE=260.225136 rank=3\n",
      "[SoftImpute] Iter 81: observed MAE=260.219654 rank=3\n",
      "[SoftImpute] Iter 82: observed MAE=260.214240 rank=3\n",
      "[SoftImpute] Iter 83: observed MAE=260.208895 rank=3\n",
      "[SoftImpute] Iter 84: observed MAE=260.203627 rank=3\n",
      "[SoftImpute] Iter 85: observed MAE=260.198443 rank=3\n",
      "[SoftImpute] Iter 86: observed MAE=260.193349 rank=3\n",
      "[SoftImpute] Iter 87: observed MAE=260.188338 rank=3\n",
      "[SoftImpute] Iter 88: observed MAE=260.183406 rank=3\n",
      "[SoftImpute] Iter 89: observed MAE=260.178549 rank=3\n",
      "[SoftImpute] Iter 90: observed MAE=260.173766 rank=3\n",
      "[SoftImpute] Iter 91: observed MAE=260.169055 rank=3\n",
      "[SoftImpute] Iter 92: observed MAE=260.164419 rank=3\n",
      "[SoftImpute] Iter 93: observed MAE=260.159859 rank=3\n",
      "[SoftImpute] Iter 94: observed MAE=260.155369 rank=3\n",
      "[SoftImpute] Iter 95: observed MAE=260.150951 rank=3\n",
      "[SoftImpute] Iter 96: observed MAE=260.146611 rank=3\n",
      "[SoftImpute] Iter 97: observed MAE=260.142352 rank=3\n",
      "[SoftImpute] Iter 98: observed MAE=260.138167 rank=3\n",
      "[SoftImpute] Iter 99: observed MAE=260.134063 rank=3\n",
      "[SoftImpute] Iter 100: observed MAE=260.130037 rank=3\n",
      "[SoftImpute] Stopped after iteration 100 for lambda=461863.574571\n"
     ]
    }
   ],
   "source": [
    "###Converting all the categorical columns into numbers\n",
    "\n",
    "cat_cols = ['Term','Years in current job','Home Ownership','Purpose']\n",
    "\n",
    "for c in cat_cols:\n",
    "    data[c] = pd.factorize(data[c])[0]\n",
    "\n",
    "#Imputing missing data with soft impute\n",
    "updated_data=pd.DataFrame(data=SoftImpute().fit_transform(data[data.columns[3:19]],), columns=data[data.columns[3:19]].columns, index=data.index)\n",
    "\n",
    "#Getting the dataset ready pd.get dummies function for dropping the dummy variables\n",
    "df_LC = pd.get_dummies(updated_data, drop_first=True)\n",
    "df_LC['Loan_Status']=data['Loan Status']"
   ]
  },
  {
   "cell_type": "code",
   "execution_count": 379,
   "id": "445b6600",
   "metadata": {},
   "outputs": [],
   "source": [
    "df_LC.to_csv('../Data/Processed.csv', index = False)"
   ]
  }
 ],
 "metadata": {
  "kernelspec": {
   "display_name": "Python 3 (ipykernel)",
   "language": "python",
   "name": "python3"
  },
  "language_info": {
   "codemirror_mode": {
    "name": "ipython",
    "version": 3
   },
   "file_extension": ".py",
   "mimetype": "text/x-python",
   "name": "python",
   "nbconvert_exporter": "python",
   "pygments_lexer": "ipython3",
   "version": "3.9.13"
  }
 },
 "nbformat": 4,
 "nbformat_minor": 5
}
